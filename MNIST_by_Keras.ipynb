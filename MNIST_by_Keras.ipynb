{
  "nbformat": 4,
  "nbformat_minor": 0,
  "metadata": {
    "colab": {
      "name": "MNIST by Keras.ipynb",
      "provenance": []
    },
    "kernelspec": {
      "name": "python3",
      "display_name": "Python 3"
    },
    "language_info": {
      "name": "python"
    },
    "accelerator": "GPU"
  },
  "cells": [
    {
      "cell_type": "markdown",
      "metadata": {
        "id": "7BzEGxD3n1e7"
      },
      "source": [
        "# MNIST by Keras"
      ]
    },
    {
      "cell_type": "code",
      "metadata": {
        "id": "eMlYcUyyn8Iz"
      },
      "source": [
        "import tensorflow"
      ],
      "execution_count": 1,
      "outputs": []
    },
    {
      "cell_type": "code",
      "metadata": {
        "colab": {
          "base_uri": "https://localhost:8080/",
          "height": 35
        },
        "id": "jAuyX_53n7DP",
        "outputId": "e60300db-73aa-48a4-ad29-fc89792aaf04"
      },
      "source": [
        "tensorflow.__version__"
      ],
      "execution_count": 2,
      "outputs": [
        {
          "output_type": "execute_result",
          "data": {
            "application/vnd.google.colaboratory.intrinsic+json": {
              "type": "string"
            },
            "text/plain": [
              "'2.5.0'"
            ]
          },
          "metadata": {
            "tags": []
          },
          "execution_count": 2
        }
      ]
    },
    {
      "cell_type": "code",
      "metadata": {
        "colab": {
          "base_uri": "https://localhost:8080/",
          "height": 35
        },
        "id": "3Eoc8jhVoNx-",
        "outputId": "7a631214-de80-4d24-c4e3-c242c273ad93"
      },
      "source": [
        "from tensorflow import keras\n",
        "keras.__version__"
      ],
      "execution_count": 3,
      "outputs": [
        {
          "output_type": "execute_result",
          "data": {
            "application/vnd.google.colaboratory.intrinsic+json": {
              "type": "string"
            },
            "text/plain": [
              "'2.5.0'"
            ]
          },
          "metadata": {
            "tags": []
          },
          "execution_count": 3
        }
      ]
    },
    {
      "cell_type": "code",
      "metadata": {
        "colab": {
          "base_uri": "https://localhost:8080/"
        },
        "id": "fw0lH9JloPCs",
        "outputId": "484af28e-ad9a-4614-8c9e-5fb117f8acce"
      },
      "source": [
        "# 載入MNIST資料\n",
        "from tensorflow import keras\n",
        "mnist = keras.datasets.mnist\n",
        "# 將資料集分為訓練及測試\n",
        "(x_train, y_train), (x_test, y_test) = mnist.load_data()"
      ],
      "execution_count": 4,
      "outputs": [
        {
          "output_type": "stream",
          "text": [
            "Downloading data from https://storage.googleapis.com/tensorflow/tf-keras-datasets/mnist.npz\n",
            "11493376/11490434 [==============================] - 0s 0us/step\n"
          ],
          "name": "stdout"
        }
      ]
    },
    {
      "cell_type": "code",
      "metadata": {
        "colab": {
          "base_uri": "https://localhost:8080/"
        },
        "id": "JPJMWEGpoaJe",
        "outputId": "0b22a617-2b1f-4b70-fb83-c6c4d3e656f5"
      },
      "source": [
        "# 6萬筆資料，大小28*28\n",
        "x_train.shape"
      ],
      "execution_count": 5,
      "outputs": [
        {
          "output_type": "execute_result",
          "data": {
            "text/plain": [
              "(60000, 28, 28)"
            ]
          },
          "metadata": {
            "tags": []
          },
          "execution_count": 5
        }
      ]
    },
    {
      "cell_type": "code",
      "metadata": {
        "colab": {
          "base_uri": "https://localhost:8080/",
          "height": 281
        },
        "id": "8EF94PXypNH8",
        "outputId": "4a190972-0970-40fe-ada2-28a608915c47"
      },
      "source": [
        "# 打開第一張圖片\n",
        "from matplotlib import pyplot as plt\n",
        "plt.imshow(x_train[0])"
      ],
      "execution_count": 6,
      "outputs": [
        {
          "output_type": "execute_result",
          "data": {
            "text/plain": [
              "<matplotlib.image.AxesImage at 0x7f6e4e2a0350>"
            ]
          },
          "metadata": {
            "tags": []
          },
          "execution_count": 6
        },
        {
          "output_type": "display_data",
          "data": {
            "image/png": "[encoded data removed]",
            "text/plain": [
              "<Figure size 432x288 with 1 Axes>"
            ]
          },
          "metadata": {
            "tags": [],
            "needs_background": "light"
          }
        }
      ]
    },
    {
      "cell_type": "code",
      "metadata": {
        "colab": {
          "base_uri": "https://localhost:8080/"
        },
        "id": "CvAQQ38VpkZn",
        "outputId": "32333406-b322-422a-8a57-a6b04c6f32a3"
      },
      "source": [
        "# 查看對應答案\n",
        "y_train[0]"
      ],
      "execution_count": 7,
      "outputs": [
        {
          "output_type": "execute_result",
          "data": {
            "text/plain": [
              "5"
            ]
          },
          "metadata": {
            "tags": []
          },
          "execution_count": 7
        }
      ]
    },
    {
      "cell_type": "code",
      "metadata": {
        "id": "LZoQ88F9pxaw"
      },
      "source": [
        "# 把訓練及測試資料改成二維度，28*28=784\n",
        "x_train = x_train.reshape(60000, 784)\n",
        "x_test = x_test.reshape(10000, 784)"
      ],
      "execution_count": 9,
      "outputs": []
    },
    {
      "cell_type": "code",
      "metadata": {
        "colab": {
          "base_uri": "https://localhost:8080/"
        },
        "id": "kl76ig8sqXxS",
        "outputId": "87068b4a-6057-4243-a68f-92b69bad2b14"
      },
      "source": [
        "x_train.shape, x_test.shape"
      ],
      "execution_count": 10,
      "outputs": [
        {
          "output_type": "execute_result",
          "data": {
            "text/plain": [
              "((60000, 784), (10000, 784))"
            ]
          },
          "metadata": {
            "tags": []
          },
          "execution_count": 10
        }
      ]
    },
    {
      "cell_type": "code",
      "metadata": {
        "id": "7qTdqz8pqdV-"
      },
      "source": [
        "# 將資料標準化\n",
        "x_train = x_train / 255.0\n",
        "x_test = x_test / 255.0"
      ],
      "execution_count": 11,
      "outputs": []
    },
    {
      "cell_type": "markdown",
      "metadata": {
        "id": "qAb82F8ntXmv"
      },
      "source": [
        "###建立模型"
      ]
    },
    {
      "cell_type": "code",
      "metadata": {
        "id": "5HQrhsOzq126"
      },
      "source": [
        "from tensorflow.keras.models import Sequential\n",
        "from tensorflow.keras.layers import Dense\n",
        "# 先開一個空的架構\n",
        "model = Sequential()\n",
        "# Dense: x * w + b\n",
        "# 輸入；256，activation用relu，隱藏層:2\n",
        "model.add(Dense(256, activation = 'relu', input_shape = (784,)))\n",
        "model.add(Dense(256, activation = 'relu'))\n",
        "# 輸出0-9\n",
        "model.add(Dense(10))"
      ],
      "execution_count": 12,
      "outputs": []
    },
    {
      "cell_type": "code",
      "metadata": {
        "colab": {
          "base_uri": "https://localhost:8080/"
        },
        "id": "U708u-d2sSOF",
        "outputId": "eb9734b9-7ae4-49fb-a64e-8b95838a3669"
      },
      "source": [
        "model.summary()\n",
        "# 784*256+256=200960\n",
        "# 256*256+256=65792\n",
        "# 256*10+10=2570"
      ],
      "execution_count": 13,
      "outputs": [
        {
          "output_type": "stream",
          "text": [
            "Model: \"sequential\"\n",
            "_________________________________________________________________\n",
            "Layer (type)                 Output Shape              Param #   \n",
            "=================================================================\n",
            "dense (Dense)                (None, 256)               200960    \n",
            "_________________________________________________________________\n",
            "dense_1 (Dense)              (None, 256)               65792     \n",
            "_________________________________________________________________\n",
            "dense_2 (Dense)              (None, 10)                2570      \n",
            "=================================================================\n",
            "Total params: 269,322\n",
            "Trainable params: 269,322\n",
            "Non-trainable params: 0\n",
            "_________________________________________________________________\n"
          ],
          "name": "stdout"
        }
      ]
    },
    {
      "cell_type": "markdown",
      "metadata": {
        "id": "LAPa76UAtr1u"
      },
      "source": [
        ""
      ]
    },
    {
      "cell_type": "markdown",
      "metadata": {
        "id": "H347FIAwtxyW"
      },
      "source": [
        "###編譯"
      ]
    },
    {
      "cell_type": "code",
      "metadata": {
        "id": "vyCWBD6wtzoQ"
      },
      "source": [
        "# 使用SparseCategoricalCrossentropy\n",
        "# 優化器:sgd\n",
        "from tensorflow.keras.losses import SparseCategoricalCrossentropy\n",
        "loss_fn = SparseCategoricalCrossentropy(from_logits=True)\n",
        "\n",
        "model.compile(optimizer='sgd',\n",
        "       loss=loss_fn,\n",
        "       metrics=['accuracy'])"
      ],
      "execution_count": 15,
      "outputs": []
    },
    {
      "cell_type": "markdown",
      "metadata": {
        "id": "C1WHbxzUvPM2"
      },
      "source": [
        "###訓練\n",
        "- https://ithelp.ithome.com.tw/articles/10219945"
      ]
    },
    {
      "cell_type": "code",
      "metadata": {
        "colab": {
          "base_uri": "https://localhost:8080/"
        },
        "id": "bI7BjFyzuWJ-",
        "outputId": "aa67baae-1f10-4caf-e5be-9d85eb98da19"
      },
      "source": [
        "model.fit(x_train, y_train, \n",
        "    epochs=15, batch_size = 256,  #跑15次\n",
        "    validation_data = (x_test, y_test))"
      ],
      "execution_count": 16,
      "outputs": [
        {
          "output_type": "stream",
          "text": [
            "Epoch 1/15\n",
            "235/235 [==============================] - 4s 4ms/step - loss: 1.7193 - accuracy: 0.5905 - val_loss: 1.0474 - val_accuracy: 0.7956\n",
            "Epoch 2/15\n",
            "235/235 [==============================] - 1s 3ms/step - loss: 0.7778 - accuracy: 0.8289 - val_loss: 0.5834 - val_accuracy: 0.8609\n",
            "Epoch 3/15\n",
            "235/235 [==============================] - 1s 3ms/step - loss: 0.5270 - accuracy: 0.8661 - val_loss: 0.4527 - val_accuracy: 0.8824\n",
            "Epoch 4/15\n",
            "235/235 [==============================] - 1s 3ms/step - loss: 0.4380 - accuracy: 0.8828 - val_loss: 0.3941 - val_accuracy: 0.8942\n",
            "Epoch 5/15\n",
            "235/235 [==============================] - 1s 3ms/step - loss: 0.3918 - accuracy: 0.8928 - val_loss: 0.3593 - val_accuracy: 0.9039\n",
            "Epoch 6/15\n",
            "235/235 [==============================] - 1s 3ms/step - loss: 0.3629 - accuracy: 0.8990 - val_loss: 0.3360 - val_accuracy: 0.9081\n",
            "Epoch 7/15\n",
            "235/235 [==============================] - 1s 3ms/step - loss: 0.3421 - accuracy: 0.9042 - val_loss: 0.3193 - val_accuracy: 0.9120\n",
            "Epoch 8/15\n",
            "235/235 [==============================] - 1s 3ms/step - loss: 0.3261 - accuracy: 0.9085 - val_loss: 0.3056 - val_accuracy: 0.9152\n",
            "Epoch 9/15\n",
            "235/235 [==============================] - 1s 3ms/step - loss: 0.3130 - accuracy: 0.9115 - val_loss: 0.2949 - val_accuracy: 0.9183\n",
            "Epoch 10/15\n",
            "235/235 [==============================] - 1s 3ms/step - loss: 0.3021 - accuracy: 0.9141 - val_loss: 0.2856 - val_accuracy: 0.9194\n",
            "Epoch 11/15\n",
            "235/235 [==============================] - 1s 3ms/step - loss: 0.2923 - accuracy: 0.9172 - val_loss: 0.2761 - val_accuracy: 0.9252\n",
            "Epoch 12/15\n",
            "235/235 [==============================] - 1s 3ms/step - loss: 0.2838 - accuracy: 0.9192 - val_loss: 0.2697 - val_accuracy: 0.9247\n",
            "Epoch 13/15\n",
            "235/235 [==============================] - 1s 3ms/step - loss: 0.2758 - accuracy: 0.9215 - val_loss: 0.2635 - val_accuracy: 0.9247\n",
            "Epoch 14/15\n",
            "235/235 [==============================] - 1s 3ms/step - loss: 0.2684 - accuracy: 0.9237 - val_loss: 0.2567 - val_accuracy: 0.9269\n",
            "Epoch 15/15\n",
            "235/235 [==============================] - 1s 3ms/step - loss: 0.2616 - accuracy: 0.9255 - val_loss: 0.2503 - val_accuracy: 0.9277\n"
          ],
          "name": "stdout"
        },
        {
          "output_type": "execute_result",
          "data": {
            "text/plain": [
              "<tensorflow.python.keras.callbacks.History at 0x7f6e0240db90>"
            ]
          },
          "metadata": {
            "tags": []
          },
          "execution_count": 16
        }
      ]
    },
    {
      "cell_type": "code",
      "metadata": {
        "colab": {
          "base_uri": "https://localhost:8080/",
          "height": 281
        },
        "id": "tc2Z9qUzwIso",
        "outputId": "ffbff506-d700-445e-fab3-ac7e1909d719"
      },
      "source": [
        "# 畫出準確率\n",
        "plt.plot(range(len(model.history.history['accuracy'])), model.history.history['accuracy'])"
      ],
      "execution_count": 17,
      "outputs": [
        {
          "output_type": "execute_result",
          "data": {
            "text/plain": [
              "[<matplotlib.lines.Line2D at 0x7f6e02211490>]"
            ]
          },
          "metadata": {
            "tags": []
          },
          "execution_count": 17
        },
        {
          "output_type": "display_data",
          "data": {
            "image/png": "[encoded data removed]",
            "text/plain": [
              "<Figure size 432x288 with 1 Axes>"
            ]
          },
          "metadata": {
            "tags": [],
            "needs_background": "light"
          }
        }
      ]
    },
    {
      "cell_type": "markdown",
      "metadata": {
        "id": "eVYMSEafxCaa"
      },
      "source": [
        "###匯出模型"
      ]
    },
    {
      "cell_type": "code",
      "metadata": {
        "id": "elThx0hZxE-e"
      },
      "source": [
        "model.save('model.h5') # h5是keras的檔案"
      ],
      "execution_count": 18,
      "outputs": []
    },
    {
      "cell_type": "code",
      "metadata": {
        "id": "JkHnAZUAxth7"
      },
      "source": [
        "# 讀出檔案\n",
        "from tensorflow.keras.models import load_model\n",
        "model2 = load_model('model.h5')"
      ],
      "execution_count": 21,
      "outputs": []
    }
  ]
}